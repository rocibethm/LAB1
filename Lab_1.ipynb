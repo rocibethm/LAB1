{
  "nbformat": 4,
  "nbformat_minor": 0,
  "metadata": {
    "colab": {
      "name": "Lab 1.ipynb",
      "provenance": [],
      "authorship_tag": "ABX9TyMFTiqJwszzV0KdcUHKIMqH",
      "include_colab_link": true
    },
    "kernelspec": {
      "name": "python3",
      "display_name": "Python 3"
    }
  },
  "cells": [
    {
      "cell_type": "markdown",
      "metadata": {
        "id": "view-in-github",
        "colab_type": "text"
      },
      "source": [
        "<a href=\"https://colab.research.google.com/github/rocibethm/LAB1/blob/master/Lab_1.ipynb\" target=\"_parent\"><img src=\"https://colab.research.google.com/assets/colab-badge.svg\" alt=\"Open In Colab\"/></a>"
      ]
    },
    {
      "cell_type": "markdown",
      "metadata": {
        "id": "yzsW9QyvIviW",
        "colab_type": "text"
      },
      "source": [
        "#Precipitation in State College 2017\n"
      ]
    },
    {
      "cell_type": "markdown",
      "metadata": {
        "id": "gWB1Z4U6I7GU",
        "colab_type": "text"
      },
      "source": [
        "I collected the amount of Precipitation that happened in State College during the months of January through May in 2017. I added up the amount of precipitation that occured each day and then summed up the total amount in inches for that specific month. The data shows a slight increase in each month."
      ]
    },
    {
      "cell_type": "markdown",
      "metadata": {
        "id": "K2UyaDptLlmU",
        "colab_type": "text"
      },
      "source": [
        "![Precipitation in State College](https://raw.githubusercontent.com/rocibethm/LAB1/master/image/lab1.jpg)"
      ]
    },
    {
      "cell_type": "markdown",
      "metadata": {
        "id": "q489NL9nPVmc",
        "colab_type": "text"
      },
      "source": [
        "After collecting the data from the data set I came to the conclusion that the total amount of precipitation increased each month. The numbers seemed to be pretty steady between January and May. Although the month of Feburary was the lowest total amount of rain while May was the month with the most amount of precipitation. "
      ]
    },
    {
      "cell_type": "markdown",
      "metadata": {
        "id": "wSt7JYjtQQng",
        "colab_type": "text"
      },
      "source": [
        ""
      ]
    }
  ]
}